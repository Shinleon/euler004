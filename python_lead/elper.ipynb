{
    "cells": [
        {
            "cell_type": "markdown",
            "metadata": {},
            "source": [
                "# Euler 004"
            ]
        },
        {
            "cell_type": "code",
            "execution_count": 1,
            "metadata": {},
            "outputs": [],
            "source": [
                "import matplotlib.pyplot as plt\n",
                "import math"
            ]
        },
        {
            "cell_type": "code",
            "execution_count": 8,
            "metadata": {},
            "outputs": [
                {
                    "name": "stdout",
                    "output_type": "stream",
                    "text": [
                        "[9999000000009999, (99999999, 99990001)]\n"
                    ]
                }
            ],
            "source": [
                "from time import time\n",
                "\n",
                "def palindrome(n):\n",
                "    def ndigit_max_min(n):\n",
                "        largest = 0\n",
                "        for i in range(0, n):\n",
                "            largest = largest*10 + 9\n",
                "        smallest = 10**(n-1)\n",
                "        return largest, smallest\n",
                "\n",
                "    def check_palind(x):\n",
                "        def rev(num):\n",
                "            ret = 0\n",
                "            while num > 0:\n",
                "                ret = ret*10 + num % 10\n",
                "                num = num//10\n",
                "            return ret\n",
                "        y = rev(x)\n",
                "        return x == y\n",
                "\n",
                "    start, end = ndigit_max_min(n)\n",
                "    largest = [0, None]\n",
                "    for i in range(2*start, 2*end, -1):\n",
                "        mid = i/2\n",
                "        upper = math.ceil(mid)\n",
                "        lower = math.floor(mid)\n",
                "        while (upper * lower > largest[0]) and (upper <= start and lower >= end):\n",
                "            if (upper % 11 == 0 or lower % 11 == 0) and check_palind(upper*lower):\n",
                "                largest[0] = upper*lower\n",
                "                largest[1] = (upper, lower)\n",
                "            upper += 1\n",
                "            lower -= 1\n",
                "        if mid * mid <= largest[0]:\n",
                "            break\n",
                "    return largest\n",
                "\n",
                "time_list = list()\n",
                "results = list()\n",
                "trial_no = 2\n",
                "for i in range(trial_no):\n",
                "    x = time()\n",
                "    results.append(palindrome(8))\n",
                "    y = time()\n",
                "    time_list.append(y-x)\n",
                "\n",
                "print(results[0])\n"
            ]
        },
        {
            "cell_type": "code",
            "execution_count": 7,
            "metadata": {},
            "outputs": [
                {
                    "name": "stdout",
                    "output_type": "stream",
                    "text": [
                        "Timing report:\n",
                        "mean: 22.931190967559814, std-dev: 0.14768409729003906\n",
                        "span: 0.2953681945800781\n"
                    ]
                }
            ],
            "source": [
                "import numpy as np\n",
                "\n",
                "time_list = np.array(time_list)\n",
                "print(f\"Timing report:\")\n",
                "print(f\"mean: {np.mean(time_list)}, std-dev: {np.std(time_list)}\")\n",
                "print(f\"span: {np.max(time_list)-np.min(time_list)}\")\n"
            ]
        },
        {
            "cell_type": "code",
            "execution_count": null,
            "metadata": {},
            "outputs": [],
            "source": []
        }
    ],
    "metadata": {
        "interpreter": {
            "hash": "c75d8343ca558d86c9f0e942cd63cc6c147ea5dfec3d2861a9fed063d00bac83"
        },
        "kernelspec": {
            "display_name": "Python 3.10.2 ('EE511')",
            "language": "python",
            "name": "python3"
        },
        "language_info": {
            "codemirror_mode": {
                "name": "ipython",
                "version": 3
            },
            "file_extension": ".py",
            "mimetype": "text/x-python",
            "name": "python",
            "nbconvert_exporter": "python",
            "pygments_lexer": "ipython3",
            "version": "3.10.2"
        },
        "orig_nbformat": 4
    },
    "nbformat": 4,
    "nbformat_minor": 2
}
