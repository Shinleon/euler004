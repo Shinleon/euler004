{
    "cells": [
        {
            "cell_type": "markdown",
            "metadata": {},
            "source": [
                "# Euler 004\n",
                "\n",
                "Euler 004 asks to find the largest palindromic number that can be created from\n",
                "the product of two `4` digit numbers. This ipynb attempts to optimize the pursuit\n",
                "of a more general question of \"what is the largest palindromic number that can\n",
                "be created from the product of two `n` digit number?\""
            ]
        },
        {
            "cell_type": "markdown",
            "metadata": {},
            "source": [
                "## Import Block (and helper functions)"
            ]
        },
        {
            "cell_type": "code",
            "execution_count": 2,
            "metadata": {},
            "outputs": [],
            "source": [
                "import math\n",
                "import time\n",
                "\n",
                "import numpy as np"
            ]
        },
        {
            "cell_type": "code",
            "execution_count": 3,
            "metadata": {},
            "outputs": [],
            "source": [
                "# A function that provides the largest n digit number\n",
                "#  and the smallest n digit number\n",
                "def ndigit_max_min(n):\n",
                "    largest = 10**n - 1\n",
                "    smallest = 10**(n-1)\n",
                "    return largest, smallest\n",
                "\n",
                "# A function that checks if a provided number is a palindrome\n",
                "def check_palind(x):\n",
                "    def rev(num):\n",
                "        ret = 0\n",
                "        while num > 0:\n",
                "            ret = ret*10 + num % 10\n",
                "            num = num//10\n",
                "        return ret\n",
                "    y = rev(x)\n",
                "    return x == y\n",
                "\n",
                "# A timing function\n",
                "def timing_report(test_function, no_trials, *args):\n",
                "    times = np.zeros((no_trials))\n",
                "    for i in range(no_trials):\n",
                "        x = time.time()\n",
                "        test_function(*args)\n",
                "        y = time.time()\n",
                "        times[i] = y-x\n",
                "    print(f\"Timing report: {args}\")\n",
                "    print(f\"mean: {np.mean(times)}, std-dev: {np.std(times)}\")\n",
                "    print(f\"span: {np.max(times)-np.min(times)}\")\n",
                "    "
            ]
        },
        {
            "cell_type": "markdown",
            "metadata": {},
            "source": [
                "## Constant memory solutions"
            ]
        },
        {
            "cell_type": "markdown",
            "metadata": {},
            "source": [
                "### The worst \"reasonable\" solution\n",
                "Please do not loop over all possible numbers by computing the largest possible product\n",
                "(`(10**n-1)**2`) and the smallest possible product (`(10**(n-1))**2`) and looping downwards,\n",
                "stopping when you find the first palindrome that has two `n` digit factors. It has one massive\n",
                "benefit of early stopping, but you will also loop over (and attempt to factorize) a significant\n",
                "quantity of numbers that aren't factorable to two `n` digit numbers.  \n",
                "\n",
                "However, we can learn from this solution that we should loop downwards! Especially if we can\n",
                "find a way to stop early."
            ]
        },
        {
            "cell_type": "code",
            "execution_count": 3,
            "metadata": {},
            "outputs": [],
            "source": [
                "# No, I will not be attempting to implement and optimize this potential algorithm"
            ]
        },
        {
            "cell_type": "markdown",
            "metadata": {},
            "source": [
                "### A slightly better solution\n",
                "Now we've learned we should loop only over the possible `n` digit pairings and that we should\n",
                "loop backwards, so that we encounter larger answers first. With such knowledge in hand, we might\n",
                "code something similar to something below. We can even add the subtle optimization of checking to\n",
                "see if the current product we're checking is larger\n",
                "than the largest palindrome we've found in order to short circuit our conditional and avoid computing\n",
                "if a number is a palindrome if the number isn't even large enough to be the largest palindrome\n",
                "in our search space."
            ]
        },
        {
            "cell_type": "code",
            "execution_count": 4,
            "metadata": {},
            "outputs": [
                {
                    "name": "stdout",
                    "output_type": "stream",
                    "text": [
                        "Timing report: (4,)\n",
                        "mean: 2.2971664905548095, std-dev: 0.029838056642844092\n",
                        "span: 0.10126185417175293\n"
                    ]
                }
            ],
            "source": [
                "def palindrome(n):\n",
                "    largest = 0\n",
                "    big, small = ndigit_max_min(n)\n",
                "    for i in range(big, small, -1):\n",
                "        for j in range(big, i-1, -1):\n",
                "            # subtle optimization of short circuiting\n",
                "            if (i*j > largest and check_palind(i*j)):\n",
                "                largest = i*j\n",
                "    return largest\n",
                "\n",
                "timing_report(palindrome, 10, 4)"
            ]
        },
        {
            "cell_type": "markdown",
            "metadata": {},
            "source": [
                "### Improving the looping scheme"
            ]
        },
        {
            "cell_type": "markdown",
            "metadata": {},
            "source": [
                "However, this looping scheme isn't as good as it could be. We often find ourselves checking smaller\n",
                "values before we look at larger ones. For example, if `n=2`, our loop checks `97*97` before it\n",
                "checks `96*99` even though the magnitude of the latter is larger than that of the former.\n",
                "This means that somewhere, we can reduce the number of `n` digit pairs that we check to be \n",
                "palindromes. A better scheme for searching the `n` digit pair space is to go diagonally across\n",
                "the pairing instead of straight up and down. What is kept consistent by the inner loop is the \n",
                "sum of the `n` digit pair. "
            ]
        },
        {
            "cell_type": "code",
            "execution_count": 5,
            "metadata": {},
            "outputs": [
                {
                    "name": "stdout",
                    "output_type": "stream",
                    "text": [
                        "Timing report: (4,)\n",
                        "mean: 0.007438540458679199, std-dev: 0.0002925221518419365\n",
                        "span: 0.0010557174682617188\n",
                        "Timing report: (7,)\n",
                        "mean: 14.169091606140137, std-dev: 0.0745915147227515\n",
                        "span: 0.22292280197143555\n"
                    ]
                }
            ],
            "source": [
                "def palindrome(n):\n",
                "    largest = 0\n",
                "    big, small = ndigit_max_min(n)\n",
                "    for i in range(2*big, 2*small, -1):\n",
                "        mid = i/2\n",
                "        upper = math.ceil(mid)\n",
                "        lower = math.floor(mid)\n",
                "        while (upper <= big and lower >= small) and (upper * lower > largest):\n",
                "            if check_palind(upper*lower):\n",
                "                largest = upper*lower\n",
                "            upper += 1\n",
                "            lower -= 1\n",
                "    return largest\n",
                "\n",
                "timing_report(palindrome, 10, 4)\n",
                "timing_report(palindrome, 10, 7)"
            ]
        },
        {
            "cell_type": "markdown",
            "metadata": {},
            "source": [
                "This provides a surprisingly ridiculous speed up, especially as `n` increases\n",
                "\n",
                "Through all this, you might be thinking, why haven't we added an early stopping condition? That is\n",
                "because both of these traversal methods fail to guarantee that our next iteration's product will\n",
                "be smaller than the current iteration. Instead we must do our best to cut out work using conditionals,\n",
                "an this specific traversal method gives us access to another conditional that we might even consider\n",
                "early stopping.\n",
                "\n",
                "Now that we are traversing in a manner that has a mathematical constraint of the sum being held\n",
                "constant in the inner loop and decreasing in the outer loop, we can stop early if the square root\n",
                "of the largest palindrome found is larger than the midpoint our inner loop is searching around. This may eventually\n",
                "give diminishing returns by the nature of the square root (it will exclude a smaller proportion\n",
                "of the search space as `n` increases), but is quite a speed up in the lower digit length searches,\n",
                "significanlty reducing the average time when looking for palindromes from multiplication by `7` digit integers."
            ]
        },
        {
            "cell_type": "code",
            "execution_count": 6,
            "metadata": {},
            "outputs": [
                {
                    "name": "stdout",
                    "output_type": "stream",
                    "text": [
                        "Timing report: (7,)\n",
                        "mean: 9.510032224655152, std-dev: 0.07217641921287052\n",
                        "span: 0.2866387367248535\n"
                    ]
                }
            ],
            "source": [
                "def palindrome(n):\n",
                "    largest = 0\n",
                "    big, small = ndigit_max_min(n)\n",
                "    for i in range(2*big, 2*small, -1):\n",
                "        mid = i/2\n",
                "        upper = math.ceil(mid)\n",
                "        lower = math.floor(mid)\n",
                "        while (upper <= big and lower >= small) and (upper * lower > largest):\n",
                "            if check_palind(upper*lower):\n",
                "                largest = upper*lower\n",
                "            upper += 1\n",
                "            lower -= 1\n",
                "        if mid * mid <= largest:\n",
                "            break\n",
                "    return largest\n",
                "\n",
                "timing_report(palindrome, 10, 7)"
            ]
        },
        {
            "cell_type": "markdown",
            "metadata": {},
            "source": [
                "### Using some numeric properties of palindromes.\n",
                "\n",
                "One of the numeric properties of palindromes is that if they have an even number of digits, the\n",
                "palindrome must be divisible by 11. We know that a significant quantity of our search space is\n",
                "made up of numbers with an even quantity of digits. However, in our search space we are not\n",
                "guaranteed that the first palindro will be found in that space. For example, when looking at `n=3`,\n",
                "we know that `999*999` gives us a six digit number, but at some point, we may begin to encounter\n",
                "five digit numbers, so we can reduce the search space by forcing one of the two `n` digit numbers\n",
                "to be divisible by `11` when the number of digits in the product is even."
            ]
        },
        {
            "cell_type": "code",
            "execution_count": 6,
            "metadata": {},
            "outputs": [
                {
                    "name": "stdout",
                    "output_type": "stream",
                    "text": [
                        "Timing report: (7,)\n",
                        "mean: 3.36102454662323, std-dev: 0.012445621910883225\n",
                        "span: 0.04371786117553711\n"
                    ]
                }
            ],
            "source": [
                "\n",
                "def nonevenLength(n):\n",
                "    return (math.floor(math.log10(n)+1) % 2 == 1)\n",
                "\n",
                "\n",
                "def palindrome(n):\n",
                "\n",
                "    start, end = ndigit_max_min(n)\n",
                "    largest = 0\n",
                "    for i in range(2*start, 2*end, -1):\n",
                "        mid = i/2\n",
                "        upper = math.ceil(mid)\n",
                "        lower = math.floor(mid)\n",
                "        while (upper <= start and lower >= end) and (upper * lower > largest):\n",
                "            # a palindrome with odd number of digits doesn't need to be a multiple of 10\n",
                "            prod = upper*lower\n",
                "            if (upper % 11 == 0 or lower % 11 == 0 or nonevenLength(prod)) and check_palind(prod):\n",
                "                largest = prod\n",
                "            upper += 1\n",
                "            lower -= 1\n",
                "        if mid * mid <= largest:\n",
                "            break\n",
                "    return largest\n",
                "\n",
                "\n",
                "timing_report(palindrome, 10, 7)\n"
            ]
        },
        {
            "cell_type": "markdown",
            "metadata": {},
            "source": [
                "## Non-constant Memory solution.\n",
                "One of the worst parts of constant memory solutions is that we don't have the ability to stop\n",
                "early or to know that the first solution we found is the best one. This section is dedicated to that\n",
                "goal.\n",
                "\n",
                "I'd like to thank a friend [Daniel Rui](http://danielrui.com), for seeding me the thoughts required to write this solution"
            ]
        },
        {
            "cell_type": "markdown",
            "metadata": {},
            "source": [
                "### Pseudo code (-ish)\n",
                "Hold onto the information on which pairings we've tried.  \n",
                "Use a priority queue and test if the largest we've seen so far is a palindrome.  \n",
                "If it is, stop,  \n",
                "else, add its two neighbors to the priority queue (x, y) -> (x-1, y) and (x, y-1).\n",
                "\n",
                "Does this guarantee that the first palindrome found is the largest possible?\n",
                "\n"
            ]
        }
    ],
    "metadata": {
        "interpreter": {
            "hash": "c75d8343ca558d86c9f0e942cd63cc6c147ea5dfec3d2861a9fed063d00bac83"
        },
        "kernelspec": {
            "display_name": "Python 3.10.2 ('EE511')",
            "language": "python",
            "name": "python3"
        },
        "language_info": {
            "codemirror_mode": {
                "name": "ipython",
                "version": 3
            },
            "file_extension": ".py",
            "mimetype": "text/x-python",
            "name": "python",
            "nbconvert_exporter": "python",
            "pygments_lexer": "ipython3",
            "version": "3.10.2"
        },
        "orig_nbformat": 4
    },
    "nbformat": 4,
    "nbformat_minor": 2
}
